{
 "cells": [
  {
   "cell_type": "code",
   "execution_count": 1,
   "id": "ffc1e9fa-5682-4129-9519-9a7ae024a184",
   "metadata": {},
   "outputs": [],
   "source": [
    "import tensorflow as tf\n",
    "from tensorflow.keras.layers import Dense,Input,Conv2D,Flatten,Conv2DTranspose\n",
    "from tensorflow.keras.layers import Reshape, Lambda, Dropout,BatchNormalization,ReLU,LeakyReLU\n",
    "from tensorflow.keras.models import Model\n",
    "from tensorflow.keras.optimizers import Adam,RMSprop\n",
    "from tensorflow.keras.utils import plot_model"
   ]
  },
  {
   "cell_type": "code",
   "execution_count": 2,
   "id": "1782b96c-5fb0-4e18-8f45-d0631740e2f0",
   "metadata": {},
   "outputs": [],
   "source": [
    "import numpy as np\n",
    "import os\n",
    "import json\n",
    "import pickle"
   ]
  },
  {
   "cell_type": "code",
   "execution_count": 4,
   "id": "6e07203a-e6d2-48df-b94e-a5c58a58520f",
   "metadata": {},
   "outputs": [],
   "source": [
    "class AutoEncoder():\n",
    "    def __init__(self,\n",
    "                 input_dim,\n",
    "                encoder_conv_filters,\n",
    "                encoder_conv_kernel_size,\n",
    "                encoder_conv_strides,\n",
    "                decoder_conv_t_filters,\n",
    "                decoder_conv_t_kernel_size,\n",
    "                decoder_conv_t_strides,\n",
    "                z_dim):\n",
    "        self.name = 'autoencoder'\n",
    "        self.input_dim = input_dim\n",
    "        self.encoder_conv_filters = encoder_conv_filters\n",
    "        self.encoder_conv_kernel_size = encoder_conv_kernel_size\n",
    "        self.encoder_conv_strides = encoder_conv_strides\n",
    "        self.decoder_conv_t_filters = decoder_conv_t_filters\n",
    "        self.decoder_conv_t_kernel_size = decoder_conv_t_kernel_size\n",
    "        self.decoder_conv_t_strides = decoder_conv_t_strides\n",
    "        self.z_dim = z_dim\n",
    "        \n",
    "        self.n_layers_encoder = len(encoder_conv_filters)\n",
    "        self.n_layers_decoder = len(decoder_conv_t_filters)\n",
    "        \n",
    "        self._build()\n",
    "        \n",
    "        \n",
    "    def _build(self):\n",
    "        encoder_input = Input(shape= self.input_dim, name = 'encoder_input')\n",
    "        x = encoder_input\n",
    "        \n",
    "        for i in range(self.n_layers_encoder):\n",
    "            conv_layer = Conv2D(\n",
    "                filters = self.encoder_conv_filters[i],\n",
    "                kernel_size = self.encoder_conv_kernel_size[i],\n",
    "                strides = self.encoder_conv_strides[i],\n",
    "                name = 'encoder_conv_'+str(i+1)\n",
    "            )\n",
    "            x = conv_layer(x)\n",
    "            x = ReLU()(x)\n",
    "            \n",
    "        ##\n",
    "        origin_shape = self.input_dim\n",
    "        x = Flatten()(x)##펴줌\n",
    "        encoder_output = Dense(self.z_dim,name='encoder_output')(x)\n",
    "        \n",
    "        \n",
    "        self.encoder = Model(inputs=[encoder_input],outputs=[encoder_output])        \n",
    "        return self.encoder     "
   ]
  },
  {
   "cell_type": "code",
   "execution_count": 5,
   "id": "3dfb08e5-5ca8-43c6-8009-cf0fd8e5a639",
   "metadata": {},
   "outputs": [],
   "source": [
    "#[]안에있는건 다음 Dense\n",
    "\n",
    "autoencoder = AutoEncoder(\n",
    "                input_dim = (28,28,1), \n",
    "                encoder_conv_filters = [32,64],\n",
    "                encoder_conv_kernel_size = [3,3],\n",
    "                encoder_conv_strides=[1,2],\n",
    "                decoder_conv_t_filters = [64,32],\n",
    "                decoder_conv_t_kernel_size = [3,3],\n",
    "                decoder_conv_t_strides = [1,2],\n",
    "                z_dim=2\n",
    "    \n",
    ")"
   ]
  },
  {
   "cell_type": "code",
   "execution_count": 6,
   "id": "49d1beff-8356-4e3a-9123-59d9675d7250",
   "metadata": {},
   "outputs": [
    {
     "data": {
      "text/plain": [
       "__main__.AutoEncoder"
      ]
     },
     "execution_count": 6,
     "metadata": {},
     "output_type": "execute_result"
    }
   ],
   "source": [
    "type(autoencoder)"
   ]
  },
  {
   "cell_type": "code",
   "execution_count": 7,
   "id": "721ca5ef-b0dd-4f1a-af90-4c1feebeba10",
   "metadata": {},
   "outputs": [
    {
     "data": {
      "text/plain": [
       "<keras.engine.functional.Functional at 0x1ed6b118070>"
      ]
     },
     "execution_count": 7,
     "metadata": {},
     "output_type": "execute_result"
    }
   ],
   "source": [
    "autoencoder._build()"
   ]
  }
 ],
 "metadata": {
  "kernelspec": {
   "display_name": "geopandas",
   "language": "python",
   "name": "geopandas"
  },
  "language_info": {
   "name": "python",
   "version": "3.9.15 (main, Nov  4 2022, 16:35:55) [MSC v.1916 64 bit (AMD64)]"
  }
 },
 "nbformat": 4,
 "nbformat_minor": 5
}
